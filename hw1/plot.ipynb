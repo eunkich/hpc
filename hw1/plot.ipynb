{
 "cells": [
  {
   "attachments": {},
   "cell_type": "markdown",
   "metadata": {},
   "source": [
    "# Appendix\n",
    "\n",
    "## Source code for the plot in problem 5"
   ]
  },
  {
   "cell_type": "code",
   "execution_count": 2,
   "metadata": {},
   "outputs": [
    {
     "data": {
      "text/plain": [
       "array([ 0.25  ,  0.5   ,  1.    ,  2.    ,  4.    ,  8.    ,  0.3125,\n",
       "        0.625 ,  1.25  ,  2.5   ,  5.    , 10.    ,  0.375 ,  0.75  ,\n",
       "        1.5   ,  3.    ,  6.    , 12.    ,  0.4375,  0.875 ,  1.75  ,\n",
       "        3.5   ,  7.    , 14.    ])"
      ]
     },
     "execution_count": 2,
     "metadata": {},
     "output_type": "execute_result"
    }
   ],
   "source": [
    "import matplotlib.pyplot as plt\n",
    "import numpy as np\n",
    "\n",
    "exp = np.arange(-2, 4, dtype=float)\n",
    "\n",
    "mantissa = np.array([1., 5/4, 3/2, 7/4])\n",
    "\n",
    "values = []\n",
    "for M in mantissa:\n",
    "    values.append(M * np.power(2, exp))\n",
    "    \n",
    "normalized = np.concatenate(values)\n",
    "normalized"
   ]
  },
  {
   "cell_type": "code",
   "execution_count": 3,
   "metadata": {},
   "outputs": [
    {
     "data": {
      "text/plain": [
       "array([0.    , 0.0625, 0.125 , 0.1875])"
      ]
     },
     "execution_count": 3,
     "metadata": {},
     "output_type": "execute_result"
    }
   ],
   "source": [
    "f = mantissa - 1\n",
    "denormalized = f * (2 ** -2)\n",
    "denormalized"
   ]
  },
  {
   "cell_type": "code",
   "execution_count": 6,
   "metadata": {},
   "outputs": [
    {
     "data": {
      "text/plain": [
       "array([-14.    , -12.    , -10.    ,  -8.    ,  -7.    ,  -6.    ,\n",
       "        -5.    ,  -4.    ,  -3.5   ,  -3.    ,  -2.5   ,  -2.    ,\n",
       "        -1.75  ,  -1.5   ,  -1.25  ,  -1.    ,  -0.875 ,  -0.75  ,\n",
       "        -0.625 ,  -0.5   ,  -0.4375,  -0.375 ,  -0.3125,  -0.25  ,\n",
       "        -0.1875,  -0.125 ,  -0.0625,  -0.    ,   0.    ,   0.0625,\n",
       "         0.125 ,   0.1875,   0.25  ,   0.3125,   0.375 ,   0.4375,\n",
       "         0.5   ,   0.625 ,   0.75  ,   0.875 ,   1.    ,   1.25  ,\n",
       "         1.5   ,   1.75  ,   2.    ,   2.5   ,   3.    ,   3.5   ,\n",
       "         4.    ,   5.    ,   6.    ,   7.    ,   8.    ,  10.    ,\n",
       "        12.    ,  14.    ])"
      ]
     },
     "execution_count": 6,
     "metadata": {},
     "output_type": "execute_result"
    }
   ],
   "source": [
    "numbers = np.concatenate([normalized, denormalized])\n",
    "numbers.sort()\n",
    "numbers = np.concatenate([np.flip(-numbers), numbers])\n",
    "numbers"
   ]
  },
  {
   "cell_type": "code",
   "execution_count": 5,
   "metadata": {},
   "outputs": [
    {
     "data": {
      "image/png": "[encoded data removed]",
      "text/plain": [
       "<Figure size 1500x200 with 1 Axes>"
      ]
     },
     "metadata": {},
     "output_type": "display_data"
    }
   ],
   "source": [
    "plt.figure(figsize=(15, 2))\n",
    "plt.scatter(x = numbers, y = np.zeros_like(numbers), s=100, marker=\"|\")\n",
    "plt.yticks([])\n",
    "plt.axhline(0, color=\"black\")\n",
    "plt.show()"
   ]
  },
  {
   "attachments": {},
   "cell_type": "markdown",
   "metadata": {},
   "source": [
    "## Verification of Overflow and Underflow in SP and DP\n",
    "\n",
    "Here, I used the estimated machine epsilon from problem 1.\n",
    "\n",
    "$$\\epsilon_{SP} = \\text{1.19209e-07}$$\n",
    "\n",
    "$$\\epsilon_{DP} = \\text{2.22045e-16}$$\n"
   ]
  },
  {
   "attachments": {},
   "cell_type": "markdown",
   "metadata": {},
   "source": [
    "```cpp\n",
    "#include <iostream>\n",
    "#include <cmath>\n",
    "\n",
    "int main()\n",
    "{\n",
    "    float Vf = std::powf(2, 104) * (std::powf(2, 24) - 1);\n",
    "    float vf = -Vf;\n",
    "    float nvf = std::powf(2, -126);\n",
    "    float epsf = 1.19209e-07f;\n",
    "\n",
    "    std::cout << \"Largest float V = \" << Vf << std::endl;\n",
    "    std::cout << \"Smallest float v = \" << vf << \"\\n\\n\";\n",
    "\n",
    "    std::cout << \"Overflow\\n\";\n",
    "\n",
    "    std::cout << \"V + (2^102 * (2 - eps)) = \"\n",
    "              << Vf + (std::powf(2, 102) * (2.0f - epsf)) << \"\\n\\n\";\n",
    "    std::cout << \"V + 2^103 = \" << Vf + (std::powf(2, 102) * 2.0f) << \"\\n\\n\";\n",
    "\n",
    "    std::cout << \"v - (2^102 * (2 - eps)) = \"\n",
    "              << vf - (std::powf(2, 102) * (2.0f - epsf)) << \"\\n\\n\";\n",
    "    std::cout << \"v - 2^103 = \" << vf - (std::powf(2, 102) * 2.0f) << \"\\n\\n\";\n",
    "\n",
    "    std::cout << \"Underflow\\n\";\n",
    "\n",
    "    std::cout << \"Smallest normal float = \" << nvf << \"\\n\\n\";\n",
    "    std::cout << \"Smallest normal float - eps = \" << nvf - epsf << \"\\n\\n\";\n",
    "\n",
    "    double Vd = std::pow(2, 971) * (std::pow(2, 53) - 1);\n",
    "    double vd = -Vd;\n",
    "    double nvd = std::pow(2, -1022);\n",
    "    double epsd = 2.22045e-16;\n",
    "\n",
    "    std::cout << \"Largest double: \" << Vd << std::endl;\n",
    "    std::cout << \"Smallest double: \" << vd << \"\\n\\n\";\n",
    "\n",
    "    std::cout << \"Overflow\\n\";\n",
    "    std::cout << \"V + (2^969 * (2 - eps)) = \"\n",
    "              << Vd + (std::pow(2, 969) * (2.0 - epsd)) << \"\\n\\n\";\n",
    "    std::cout << \"V + 2^970 = \" << Vd + (std::pow(2, 969) * 2.0) << \"\\n\\n\";\n",
    "\n",
    "    std::cout << \"v - (2^969 * (2 - eps)) = \"\n",
    "              << vd - (std::pow(2, 969) * (2.0 - epsd)) << \"\\n\\n\";\n",
    "    std::cout << \"v - 2^970 = \" << vd - (std::pow(2, 969) * 2.0) << \"\\n\\n\";\n",
    "\n",
    "    std::cout << \"Underflow\\n\";\n",
    "    std::cout << \"Smallest normal double = \" << nvd << \"\\n\\n\";\n",
    "    std::cout << \"Smallest normal double - eps = \" << nvd - epsd << \"\\n\\n\";\n",
    "\n",
    "    return 0;\n",
    "}\n",
    "```"
   ]
  },
  {
   "attachments": {},
   "cell_type": "markdown",
   "metadata": {},
   "source": [
    "#### Output\n",
    "\n",
    "```\n",
    "Largest float V = 3.40282e+38\n",
    "Smallest float v = -3.40282e+38\n",
    "\n",
    "Overflow\n",
    "V + (2^102 * (2 - eps)) = 3.40282e+38\n",
    "\n",
    "V + 2^103 = inf\n",
    "\n",
    "v - (2^102 * (2 - eps)) = -3.40282e+38\n",
    "\n",
    "v - 2^103 = -inf\n",
    "\n",
    "Underflow\n",
    "Smallest positive normal float = 1.17549e-38\n",
    "\n",
    "Smallest positive normal float - eps = -1.19209e-07\n",
    "\n",
    "Largest double: 1.79769e+308\n",
    "Smallest double: -1.79769e+308\n",
    "\n",
    "Overflow\n",
    "V + (2^969 * (2 - eps)) = 1.79769e+308\n",
    "\n",
    "V + 2^970 = inf\n",
    "\n",
    "v - (2^969 * (2 - eps)) = -1.79769e+308\n",
    "\n",
    "v - 2^970 = -inf\n",
    "\n",
    "Underflow\n",
    "Smallest positive normal double = 2.22507e-308\n",
    "\n",
    "Smallest positive normal double - eps = -2.22045e-16\n",
    "```"
   ]
  },
  {
   "cell_type": "markdown",
   "metadata": {},
   "source": []
  }
 ],
 "metadata": {
  "kernelspec": {
   "display_name": "montecarlo",
   "language": "python",
   "name": "python3"
  },
  "language_info": {
   "codemirror_mode": {
    "name": "ipython",
    "version": 3
   },
   "file_extension": ".py",
   "mimetype": "text/x-python",
   "name": "python",
   "nbconvert_exporter": "python",
   "pygments_lexer": "ipython3",
   "version": "3.9.15"
  },
  "orig_nbformat": 4
 },
 "nbformat": 4,
 "nbformat_minor": 2
}
